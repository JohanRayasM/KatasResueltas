{
 "cells": [
  {
   "cell_type": "markdown",
   "metadata": {},
   "source": [
    "#  Creación de diccionarios de Python"
   ]
  },
  {
   "cell_type": "code",
   "execution_count": 14,
   "metadata": {},
   "outputs": [
    {
     "name": "stdout",
     "output_type": "stream",
     "text": [
      "El planeta de Marte tiene 2 lunas\n",
      "Marte tiene un diametro polar de 133709\n"
     ]
    }
   ],
   "source": [
    "planeta = {\n",
    "    \"name\": \"Marte\",\n",
    "    \"moons\": \"2\"\n",
    "}\n",
    "\n",
    "print(f'El planeta de {planeta[\"name\"]} tiene {planeta[\"moons\"]} lunas')\n",
    "\n",
    "planeta[\"diametro\"] = {\n",
    "    'polar': 133709,\n",
    "    'equatorial': 142984\n",
    "}\n",
    "\n",
    "print(f'{planeta[\"name\"]} tiene un diametro polar de {planeta[\"diametro\"][\"polar\"]}')\n",
    "\n"
   ]
  },
  {
   "cell_type": "markdown",
   "metadata": {},
   "source": [
    "# Programación dinámica con diccionarios"
   ]
  },
  {
   "cell_type": "code",
   "execution_count": 23,
   "metadata": {},
   "outputs": [
    {
     "name": "stdout",
     "output_type": "stream",
     "text": [
      "El numero extraoficial de planetas en el sistema solar es:12\n",
      "El promedio de lunas de los planetas es de: 17.833333333333332\n"
     ]
    }
   ],
   "source": [
    "planet_moons = {\n",
    "    'mercury': 0,\n",
    "    'venus': 0,\n",
    "    'earth': 1,\n",
    "    'mars': 2,\n",
    "    'jupiter': 79,\n",
    "    'saturn': 82,\n",
    "    'uranus': 27,\n",
    "    'neptune': 14,\n",
    "    'pluto': 5,\n",
    "    'haumea': 2,\n",
    "    'makemake': 1,\n",
    "    'eris': 1\n",
    "}\n",
    "\n",
    "moons = planet_moons.values()\n",
    "planets = len(planet_moons.keys())\n",
    "\n",
    "print(\"El numero extraoficial de planetas en el sistema solar es:\" + str(planets))\n",
    "\n",
    "total_moons = 0\n",
    "\n",
    "for moon in moons:\n",
    "    total_moons = total_moons + moon\n",
    "average = total_moons / planets\n",
    "\n",
    "print(\"El promedio de lunas de los planetas es de: \"+ str(average))\n"
   ]
  }
 ],
 "metadata": {
  "interpreter": {
   "hash": "5835125e4369609a3da41c6beac92e63dbb9fb99f7ddf6d90ccd7fcea00bee6d"
  },
  "kernelspec": {
   "display_name": "Python 3.9.10 64-bit (windows store)",
   "language": "python",
   "name": "python3"
  },
  "language_info": {
   "codemirror_mode": {
    "name": "ipython",
    "version": 3
   },
   "file_extension": ".py",
   "mimetype": "text/x-python",
   "name": "python",
   "nbconvert_exporter": "python",
   "pygments_lexer": "ipython3",
   "version": "3.9.10"
  },
  "orig_nbformat": 4
 },
 "nbformat": 4,
 "nbformat_minor": 2
}
