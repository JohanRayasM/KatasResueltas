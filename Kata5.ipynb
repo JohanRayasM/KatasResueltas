{
 "cells": [
  {
   "cell_type": "markdown",
   "metadata": {},
   "source": [
    "# Operadores Aritméticos"
   ]
  },
  {
   "cell_type": "code",
   "execution_count": 1,
   "metadata": {},
   "outputs": [
    {
     "name": "stdout",
     "output_type": "stream",
     "text": [
      "La distacia de la Tierra al sol es de: 149597870 km\n",
      "La distacia de Jupiter al sol es de: 778547200 km\n",
      "La distancia entre planetas es de: 628949330 km\n",
      "Esto en millas es: 390577534 mi\n"
     ]
    }
   ],
   "source": [
    "d_tierra = 149597870\n",
    "d_jupi = 778547200\n",
    "distancia_planetas = abs(d_tierra - d_jupi)\n",
    "distancia_millas = round(distancia_planetas * 0.621)\n",
    "print (\"La distacia de la Tierra al sol es de: \" + str(d_tierra) + \" km\")\n",
    "print (\"La distacia de Jupiter al sol es de: \" + str(d_jupi) + \" km\")\n",
    "print(\"La distancia entre planetas es de: \" + str(distancia_planetas) + \" km\")\n",
    "print(\"Esto en millas es: \" + str(distancia_millas) + \" mi\")"
   ]
  },
  {
   "cell_type": "markdown",
   "metadata": {},
   "source": [
    "# Convertir cadenas en números y valores absolutos"
   ]
  },
  {
   "cell_type": "code",
   "execution_count": 2,
   "metadata": {},
   "outputs": [
    {
     "name": "stdout",
     "output_type": "stream",
     "text": [
      "La distacia del primer planeta al sol es de: 8000 km\n",
      "La distacia del segundo planeta al sol es de: 20000 km\n",
      "La distancia entre planetas es de: 12000 km\n",
      "Esto en millas es: 7452 mi\n"
     ]
    }
   ],
   "source": [
    "planeta_uno = input (\"Distancia al sol del primer planeta:\")\n",
    "planeta_dos = input (\"Distancia al sol del segundo planeta:\")\n",
    "print (\"La distacia del primer planeta al sol es de: \" + (planeta_uno) + \" km\")\n",
    "print (\"La distacia del segundo planeta al sol es de: \" + (planeta_dos) + \" km\")\n",
    "\n",
    "\n",
    "pla1_num = int(planeta_uno)\n",
    "pla2_num = int(planeta_dos)\n",
    "\n",
    "\n",
    "d_planetas = abs(pla1_num - pla2_num)\n",
    "d_millas = round(d_planetas * 0.621)\n",
    "print(\"La distancia entre planetas es de: \" + str(d_planetas) + \" km\")\n",
    "print(\"Esto en millas es: \" + str(d_millas) + \" mi\")"
   ]
  }
 ],
 "metadata": {
  "interpreter": {
   "hash": "1cebf7d3ba2efe665f27c491f13904ef8f29e3dfa533cc73ea4992b971678fdd"
  },
  "kernelspec": {
   "display_name": "Python 3.9.2 64-bit",
   "language": "python",
   "name": "python3"
  },
  "language_info": {
   "codemirror_mode": {
    "name": "ipython",
    "version": 3
   },
   "file_extension": ".py",
   "mimetype": "text/x-python",
   "name": "python",
   "nbconvert_exporter": "python",
   "pygments_lexer": "ipython3",
   "version": "3.9.2"
  },
  "orig_nbformat": 4
 },
 "nbformat": 4,
 "nbformat_minor": 2
}
