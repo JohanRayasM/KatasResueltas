{
 "cells": [
  {
   "cell_type": "markdown",
   "metadata": {},
   "source": [
    "# Crear y usar lista de python"
   ]
  },
  {
   "cell_type": "code",
   "execution_count": 1,
   "metadata": {},
   "outputs": [
    {
     "name": "stdout",
     "output_type": "stream",
     "text": [
      "El numero de planetas en el sistema solar es 8\n",
      "Los planetas del sistemas solar son: ['Mercurio', 'Venus', 'Tierra', 'Marte', 'Jupiter', 'Saturno', 'Urano', 'Neptuno']\n",
      "El ultimo planeta del sistema solar es: Pluton\n"
     ]
    }
   ],
   "source": [
    "planetas = [\"Mercurio\", \"Venus\", \"Tierra\", \"Marte\", \"Jupiter\", \"Saturno\", \"Urano\", \"Neptuno\"]\n",
    "num_planetas = len(planetas)\n",
    "print(\"El numero de planetas en el sistema solar es\", num_planetas)\n",
    "print(\"Los planetas del sistemas solar son:\", planetas)\n",
    "\n",
    "planetafinal = planetas[0:10]\n",
    "planetafinal.append(\"Pluton\")\n",
    "print(\"El ultimo planeta del sistema solar es:\", planetafinal[8])\n",
    "\n",
    "\n"
   ]
  },
  {
   "cell_type": "markdown",
   "metadata": {},
   "source": [
    "# Trabajando con datos de una lista"
   ]
  },
  {
   "cell_type": "code",
   "execution_count": 2,
   "metadata": {},
   "outputs": [
    {
     "name": "stdout",
     "output_type": "stream",
     "text": [
      "Su planeta elegido es: Marte\n",
      "Estos son los planetas mas cercanos al sol comparados con Marte: ['Mercurio', 'Venus', 'Tierra']\n",
      "Estos son los planetas mas lejanos al sol comparados con Marte: ['Jupiter', 'Saturno', 'Urano', 'Neptuno']\n"
     ]
    }
   ],
   "source": [
    "planetas = [\"Mercurio\", \"Venus\", \"Tierra\", \"Marte\", \"Jupiter\", \"Saturno\", \"Urano\", \"Neptuno\"]\n",
    "planeta_buscado = input(\"Ingrese un planeta empezando por mayusculas:\")\n",
    "planeta_index = planetas.index(planeta_buscado)\n",
    "print(\"Su planeta elegido es: \"+planeta_buscado)\n",
    "print(\"Estos son los planetas mas cercanos al sol comparados con \" + planeta_buscado + \":\",(planetas[0:planeta_index]))\n",
    "print(\"Estos son los planetas mas lejanos al sol comparados con \" + planeta_buscado + \":\", (planetas[planeta_index+1:]))"
   ]
  }
 ],
 "metadata": {
  "interpreter": {
   "hash": "1cebf7d3ba2efe665f27c491f13904ef8f29e3dfa533cc73ea4992b971678fdd"
  },
  "kernelspec": {
   "display_name": "Python 3.9.2 64-bit",
   "language": "python",
   "name": "python3"
  },
  "language_info": {
   "codemirror_mode": {
    "name": "ipython",
    "version": 3
   },
   "file_extension": ".py",
   "mimetype": "text/x-python",
   "name": "python",
   "nbconvert_exporter": "python",
   "pygments_lexer": "ipython3",
   "version": "3.9.2"
  },
  "orig_nbformat": 4
 },
 "nbformat": 4,
 "nbformat_minor": 2
}
