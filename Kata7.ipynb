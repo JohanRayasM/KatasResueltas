{
 "cells": [
  {
   "cell_type": "markdown",
   "metadata": {},
   "source": [
    "# Creación de un bucle WHILE"
   ]
  },
  {
   "cell_type": "code",
   "execution_count": 9,
   "metadata": {},
   "outputs": [
    {
     "name": "stdout",
     "output_type": "stream",
     "text": [
      "['Tierra', 'Marte', 'Jupiter']\n"
     ]
    }
   ],
   "source": [
    "new_planet = \"\"\n",
    "planets = []\n",
    "\n",
    "while new_planet.lower() !=\"done\":\n",
    "    if new_planet: \n",
    "        planets.append(new_planet)\n",
    "    new_planet = input(\"\"\"\"EScriba el nombre de un planeta, si ya terminó de escribir escriba la palabara \"done\"\"\"\"\")\n",
    "print(planets)\n",
    "\n"
   ]
  },
  {
   "cell_type": "markdown",
   "metadata": {},
   "source": [
    "# Creación de un ciclo \"for\""
   ]
  },
  {
   "cell_type": "code",
   "execution_count": 11,
   "metadata": {},
   "outputs": [
    {
     "name": "stdout",
     "output_type": "stream",
     "text": [
      "Tierra\n",
      "Marte\n",
      "Jupiter\n"
     ]
    }
   ],
   "source": [
    "for planet in planets:\n",
    "    print (planet)"
   ]
  }
 ],
 "metadata": {
  "interpreter": {
   "hash": "5835125e4369609a3da41c6beac92e63dbb9fb99f7ddf6d90ccd7fcea00bee6d"
  },
  "kernelspec": {
   "display_name": "Python 3.9.10 64-bit (windows store)",
   "language": "python",
   "name": "python3"
  },
  "language_info": {
   "codemirror_mode": {
    "name": "ipython",
    "version": 3
   },
   "file_extension": ".py",
   "mimetype": "text/x-python",
   "name": "python",
   "nbconvert_exporter": "python",
   "pygments_lexer": "ipython3",
   "version": "3.9.10"
  },
  "orig_nbformat": 4
 },
 "nbformat": 4,
 "nbformat_minor": 2
}
