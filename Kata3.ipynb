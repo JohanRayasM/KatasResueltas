{
 "cells": [
  {
   "cell_type": "markdown",
   "metadata": {},
   "source": [
    "# PROGRAMA DE ADVERTENCIA DE VELOCIDAD DE ASTEROIDE"
   ]
  },
  {
   "cell_type": "markdown",
   "metadata": {},
   "source": [
    "Kata 3 - Ejercicio 1"
   ]
  },
  {
   "cell_type": "code",
   "execution_count": 30,
   "metadata": {},
   "outputs": [
    {
     "name": "stdout",
     "output_type": "stream",
     "text": [
      "PELIGRO!, un asteroide pasa a alta velocidad\n"
     ]
    }
   ],
   "source": [
    "aste_v_actual = 49\n",
    "velo_peligro = 25\n",
    "if aste_v_actual > velo_peligro: \n",
    "    print (\"PELIGRO!, un asteroide pasa a alta velocidad\")\n",
    "else:\n",
    "    print(\"Asteroide no peligroso\")\n"
   ]
  },
  {
   "cell_type": "markdown",
   "metadata": {},
   "source": [
    "# OJO! ASTEROIDE EN EL CIELO"
   ]
  },
  {
   "cell_type": "markdown",
   "metadata": {},
   "source": [
    "Kata 3 - Ejercicio 2"
   ]
  },
  {
   "cell_type": "code",
   "execution_count": 31,
   "metadata": {},
   "outputs": [
    {
     "name": "stdout",
     "output_type": "stream",
     "text": [
      "No hay nada en el cielo\n"
     ]
    }
   ],
   "source": [
    "aste_v_actual = 19\n",
    "if aste_v_actual > 20:\n",
    "    print(\"Mira, hay una luz en el cielo\")\n",
    "elif aste_v_actual == 20:\n",
    "    print(\"Mira, hay una luz en el cielo\")\n",
    "else:\n",
    "    print(\"No hay nada en el cielo\")\n"
   ]
  },
  {
   "cell_type": "markdown",
   "metadata": {},
   "source": [
    "# PROGRAMA DE ADVERTENCIA TOTAL"
   ]
  },
  {
   "cell_type": "markdown",
   "metadata": {},
   "source": [
    "Kata 3 - Ejercicio 3"
   ]
  },
  {
   "cell_type": "code",
   "execution_count": 35,
   "metadata": {},
   "outputs": [
    {
     "name": "stdout",
     "output_type": "stream",
     "text": [
      "Alerta, asteroide peligroso se acerca a la Tierra\n"
     ]
    }
   ],
   "source": [
    "aste_velo = 49\n",
    "aste_size = 300\n",
    "if aste_velo > 25 and aste_size >= 25:\n",
    "    if aste_velo > 25 and aste_size >= 1000:\n",
    "        print (\"Desastre inminente\")\n",
    "    else:\n",
    "        print(\"Alerta, asteroide peligroso se acerca a la Tierra\")\n",
    "elif aste_velo >= 20:\n",
    "    print(\"Luz bomnita en el cielo\")\n",
    "elif aste_velo < 20 and aste_size < 25:\n",
    "    print('El asteroide se va a desintegrar en la atmosfera')\n",
    "else:\n",
    "    print('Nada que ver aquí :)')"
   ]
  },
  {
   "cell_type": "markdown",
   "metadata": {},
   "source": []
  }
 ],
 "metadata": {
  "interpreter": {
   "hash": "5835125e4369609a3da41c6beac92e63dbb9fb99f7ddf6d90ccd7fcea00bee6d"
  },
  "kernelspec": {
   "display_name": "Python 3.9.10 64-bit (windows store)",
   "language": "python",
   "name": "python3"
  },
  "language_info": {
   "codemirror_mode": {
    "name": "ipython",
    "version": 3
   },
   "file_extension": ".py",
   "mimetype": "text/x-python",
   "name": "python",
   "nbconvert_exporter": "python",
   "pygments_lexer": "ipython3",
   "version": "3.9.10"
  },
  "orig_nbformat": 4
 },
 "nbformat": 4,
 "nbformat_minor": 2
}
